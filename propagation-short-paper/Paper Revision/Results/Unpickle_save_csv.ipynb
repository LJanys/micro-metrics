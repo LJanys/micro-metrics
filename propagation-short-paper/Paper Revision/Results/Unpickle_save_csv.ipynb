{
 "cells": [
  {
   "cell_type": "code",
   "execution_count": 186,
   "id": "7d0a450b",
   "metadata": {},
   "outputs": [],
   "source": [
    "import pickle as pkl\n",
    "import pandas as pd\n",
    "from pathlib import Path\n",
    "import numpy as np\n",
    "import csv"
   ]
  },
  {
   "cell_type": "code",
   "execution_count": null,
   "id": "20bd570f",
   "metadata": {},
   "outputs": [],
   "source": []
  },
  {
   "cell_type": "code",
   "execution_count": null,
   "id": "c18fbfbb",
   "metadata": {},
   "outputs": [],
   "source": [
    "import os\n",
    "\n",
    "data_path = \"/Users/lenajanys/Documents/GitHub/sampling/Results/likelihoods_test/\"\n",
    "\n",
    "newdata=[]\n",
    "\n",
    "#Loop over all files in the directory and unpickle them into one large data frame\n",
    "\n",
    "for path in os.listdir(data_path):\n",
    "    df = pd.read_pickle(data_path + path)\n",
    "    newdata.append([path.replace(\".pkl\", \"\"), df])\n",
    " \n",
    "    \n",
    "    #newdata=np.array([path.replace(\".pkl\", \"\"), df]).T\n",
    "    #df2=pd.DataFrame(newdata,index=None)\n",
    "\n",
    "    #new_df = pd.DataFrame(newdata,columns=[ \"Sim_num\", \"Likelihood\"],index=None)  # path[:-4]\n",
    "   # new_df.to_csv(\"/Users/lenajanys/Documents/GitHub/sampling/Results/likelihoods/likelihood_csv.csv\", index=False, mode=\"a\", )\n",
    "print(newdata)"
   ]
  },
  {
   "cell_type": "code",
   "execution_count": null,
   "id": "548dcfbf",
   "metadata": {},
   "outputs": [],
   "source": [
    "###Save as data frame and save as csv file###\n",
    "df_new=pd.DataFrame(newdata,columns=[\"sim_num\",\"likelihood\"])\n",
    "df_new.to_csv(r'file.csv',index=False)"
   ]
  },
  {
   "cell_type": "code",
   "execution_count": 202,
   "id": "1605f1a5",
   "metadata": {},
   "outputs": [],
   "source": [
    "###Try the same for the qois\n",
    "import pickle\n",
    "data_path = \"/Users/lenajanys/Documents/GitHub/sampling/Results/qois_test/\"\n",
    "help_me = open (\"/Users/lenajanys/Documents/GitHub/sampling/Results/qois_test/1.pkl\", \"rb\")\n",
    "ls = pickle.load(help_me)\n",
    "\n",
    "\n",
    "\n"
   ]
  },
  {
   "cell_type": "code",
   "execution_count": 203,
   "id": "5c6b64f1",
   "metadata": {},
   "outputs": [],
   "source": [
    "dim1=len(df)"
   ]
  },
  {
   "cell_type": "code",
   "execution_count": 207,
   "id": "2b469898",
   "metadata": {},
   "outputs": [
    {
     "data": {
      "text/plain": [
       "{'difference': 0.0, 'baseline': 9.75782, 'with_subsidy': 9.75782}"
      ]
     },
     "execution_count": 207,
     "metadata": {},
     "output_type": "execute_result"
    }
   ],
   "source": [
    "df[\"subsidy_effect_on_years\"]"
   ]
  },
  {
   "cell_type": "code",
   "execution_count": null,
   "id": "b5ef21ce",
   "metadata": {},
   "outputs": [],
   "source": []
  },
  {
   "cell_type": "code",
   "execution_count": 200,
   "id": "85b4b53e",
   "metadata": {},
   "outputs": [
    {
     "name": "stdout",
     "output_type": "stream",
     "text": [
      "{'subsidy_effect_on_years': {'difference': 0.0, 'baseline': 9.75782, 'with_subsidy': 9.75782}, 'subsidy_effect_on_years_by_type': {'difference': Type\n",
      "0    0.0\n",
      "1    0.0\n",
      "2    0.0\n",
      "3    0.0\n",
      "Name: Experience_School, dtype: float64, 'baseline': Type\n",
      "0    10.018645\n",
      "1     9.787173\n",
      "2     9.720031\n",
      "3     9.560133\n",
      "Name: Experience_School, dtype: float64, 'with_subsidy': Type\n",
      "0    10.018645\n",
      "1     9.787173\n",
      "2     9.720031\n",
      "3     9.560133\n",
      "Name: Experience_School, dtype: float64}, 'average_wage_by_period':         Wage_Blue_Collar  Wage_White_Collar\n",
      "Period                                     \n",
      "0           5.459004e+74                NaN\n",
      "1           2.265723e+99                NaN\n",
      "2           6.804849e+94                NaN\n",
      "3          6.226920e+107                NaN\n",
      "4          1.122419e+104                NaN\n",
      "5          8.632066e+112                NaN\n",
      "6          7.899407e+105                NaN\n",
      "7          2.270442e+112                NaN\n",
      "8          7.474102e+108                NaN\n",
      "9          7.282389e+128                NaN\n",
      "10         9.496513e+112                NaN\n",
      "11         2.570154e+128                NaN\n",
      "12         8.816720e+126                NaN\n",
      "13         3.041766e+133                NaN\n",
      "14         3.434285e+128                NaN\n",
      "15         4.685911e+137                NaN\n",
      "16         1.856387e+117                NaN\n",
      "17         8.373553e+145                NaN\n",
      "18         1.296745e+129                NaN\n",
      "19         9.852686e+146                NaN\n",
      "20         3.187139e+132                NaN\n",
      "21         1.129262e+147                NaN\n",
      "22         2.342831e+128                NaN\n",
      "23         1.181651e+151                NaN\n",
      "24         2.091647e+129                NaN\n",
      "25         1.598900e+140                NaN\n",
      "26         1.330730e+149                NaN\n",
      "27         1.430381e+148                NaN\n",
      "28         1.337903e+137                NaN\n",
      "29         9.925287e+140                NaN\n",
      "30         9.776477e+135                NaN\n",
      "31         8.754217e+146                NaN\n",
      "32         5.093649e+131                NaN\n",
      "33         4.065094e+152                NaN\n",
      "34         4.385924e+139                NaN\n",
      "35         2.563419e+155                NaN\n",
      "36         9.041188e+143                NaN\n",
      "37         3.942615e+142                NaN\n",
      "38         5.065090e+128                NaN\n",
      "39         3.675457e+147                NaN\n",
      "40         5.371928e+129                NaN\n",
      "41         1.103707e+140                NaN\n",
      "42         1.126622e+123                NaN\n",
      "43         6.199433e+132                NaN\n",
      "44         3.523465e+130                NaN\n",
      "45         6.553610e+140                NaN\n",
      "46         8.672805e+121                NaN\n",
      "47         1.877836e+138                NaN\n",
      "48         8.070566e+129                NaN\n",
      "49         4.141051e+122                NaN, 'subsidy_effect_on_hs_graduation': {'difference': 0.0, 'baseline': 0.0, 'with_subsidy': 0.0}, 'subsidy_effect_on_col_graduation': {'difference': 0.0, 'baseline': 0.0, 'with_subsidy': 0.0}, 'subsidy_effect_on_utility_by_type': {'difference': Type\n",
      "0   NaN\n",
      "1   NaN\n",
      "2   NaN\n",
      "3   NaN\n",
      "Name: Value_Function_Max, dtype: float64, 'baseline': Type\n",
      "0   NaN\n",
      "1   NaN\n",
      "2   NaN\n",
      "3   NaN\n",
      "Name: Value_Function_Max, dtype: float64, 'with_subsidy': Type\n",
      "0   NaN\n",
      "1   NaN\n",
      "2   NaN\n",
      "3   NaN\n",
      "Name: Value_Function_Max, dtype: float64}, 'choice_shares_by_period': Choice  blue_collar  military  white_collar  school  home\n",
      "Period                                                   \n",
      "0           0.99808   0.00192           0.0     0.0   0.0\n",
      "1           0.00000   0.00000           1.0     0.0   0.0\n",
      "2           1.00000   0.00000           0.0     0.0   0.0\n",
      "3           0.00000   0.00000           1.0     0.0   0.0\n",
      "4           1.00000   0.00000           0.0     0.0   0.0\n",
      "5           0.00000   0.00000           1.0     0.0   0.0\n",
      "6           1.00000   0.00000           0.0     0.0   0.0\n",
      "7           0.00000   0.00000           1.0     0.0   0.0\n",
      "8           1.00000   0.00000           0.0     0.0   0.0\n",
      "9           0.00000   0.00000           1.0     0.0   0.0\n",
      "10          1.00000   0.00000           0.0     0.0   0.0\n",
      "11          0.00000   0.00000           1.0     0.0   0.0\n",
      "12          1.00000   0.00000           0.0     0.0   0.0\n",
      "13          0.00000   0.00000           1.0     0.0   0.0\n",
      "14          1.00000   0.00000           0.0     0.0   0.0\n",
      "15          0.00000   0.00000           1.0     0.0   0.0\n",
      "16          1.00000   0.00000           0.0     0.0   0.0\n",
      "17          0.00000   0.00000           1.0     0.0   0.0\n",
      "18          1.00000   0.00000           0.0     0.0   0.0\n",
      "19          0.00000   0.00000           1.0     0.0   0.0\n",
      "20          1.00000   0.00000           0.0     0.0   0.0\n",
      "21          0.00000   0.00000           1.0     0.0   0.0\n",
      "22          1.00000   0.00000           0.0     0.0   0.0\n",
      "23          0.00000   0.00000           1.0     0.0   0.0\n",
      "24          1.00000   0.00000           0.0     0.0   0.0\n",
      "25          0.00000   0.00000           1.0     0.0   0.0\n",
      "26          1.00000   0.00000           0.0     0.0   0.0\n",
      "27          0.00000   0.00000           1.0     0.0   0.0\n",
      "28          1.00000   0.00000           0.0     0.0   0.0\n",
      "29          0.00000   0.00000           1.0     0.0   0.0\n",
      "30          1.00000   0.00000           0.0     0.0   0.0\n",
      "31          0.00000   0.00000           1.0     0.0   0.0\n",
      "32          1.00000   0.00000           0.0     0.0   0.0\n",
      "33          0.00000   0.00000           1.0     0.0   0.0\n",
      "34          1.00000   0.00000           0.0     0.0   0.0\n",
      "35          0.00000   0.00000           1.0     0.0   0.0\n",
      "36          1.00000   0.00000           0.0     0.0   0.0\n",
      "37          0.00000   0.00000           1.0     0.0   0.0\n",
      "38          1.00000   0.00000           0.0     0.0   0.0\n",
      "39          0.00000   0.00000           1.0     0.0   0.0\n",
      "40          1.00000   0.00000           0.0     0.0   0.0\n",
      "41          0.00000   0.00000           1.0     0.0   0.0\n",
      "42          1.00000   0.00000           0.0     0.0   0.0\n",
      "43          0.00000   0.00000           1.0     0.0   0.0\n",
      "44          1.00000   0.00000           0.0     0.0   0.0\n",
      "45          0.00000   0.00000           1.0     0.0   0.0\n",
      "46          1.00000   0.00000           0.0     0.0   0.0\n",
      "47          0.00000   0.00000           1.0     0.0   0.0\n",
      "48          1.00000   0.00000           0.0     0.0   0.0\n",
      "49          0.00000   0.00000           1.0     0.0   0.0, 'average_choice_shares_by_type_until_age_40': Type                 0         1         2         3\n",
      "Choice                                              \n",
      "blue_collar   0.529412  0.529412  0.529412  0.529412\n",
      "white_collar  0.470588  0.470588  0.470588  0.470588\n",
      "military      0.000000  0.000000  0.000000  0.000000\n",
      "school        0.000000  0.000000  0.000000  0.000000\n",
      "home          0.000000  0.000000  0.000000  0.000000, 'years_educ_by_type': Type\n",
      "0    10.018645\n",
      "1     9.787173\n",
      "2     9.720031\n",
      "3     9.560133\n",
      "Name: Experience_School, dtype: float64, 'variance_decomposition_of_lifetime_utility': nan, 'average_wage_at_age_50':               Wage_Blue_Collar  Wage_White_Collar\n",
      "Choice                                           \n",
      "blue_collar      4.385924e+139                NaN\n",
      "military                   NaN                NaN\n",
      "white_collar               NaN                NaN\n",
      "school                     NaN                NaN\n",
      "home                       NaN                NaN, 'params':                                                        value\n",
      "category               name                                 \n",
      "delta                  delta                      -95.056072\n",
      "wage_white_collar      constant                   206.169259\n",
      "                       exp_school                  61.820614\n",
      "                       exp_white_collar           318.897112\n",
      "                       exp_white_collar_square    274.303904\n",
      "...                                                      ...\n",
      "lagged_choice_1_school eight_years_of_schooling    -1.758000\n",
      "                       nine_years_of_schooling     -0.212300\n",
      "                       ten_years_of_schooling      -0.023100\n",
      "                       eleven_years_of_schooling   -0.009700\n",
      "maximum_exp            school                      20.000000\n",
      "\n",
      "[115 rows x 1 columns]}\n"
     ]
    }
   ],
   "source": [
    "print(ls)"
   ]
  },
  {
   "cell_type": "code",
   "execution_count": 184,
   "id": "726e928a",
   "metadata": {},
   "outputs": [
    {
     "ename": "KeyError",
     "evalue": "10",
     "output_type": "error",
     "traceback": [
      "\u001b[0;31m---------------------------------------------------------------------------\u001b[0m",
      "\u001b[0;31mKeyError\u001b[0m                                  Traceback (most recent call last)",
      "Cell \u001b[0;32mIn[184], line 1\u001b[0m\n\u001b[0;32m----> 1\u001b[0m \u001b[43mdf\u001b[49m\u001b[43m[\u001b[49m\u001b[38;5;241;43m10\u001b[39;49m\u001b[43m]\u001b[49m\n",
      "\u001b[0;31mKeyError\u001b[0m: 10"
     ]
    }
   ],
   "source": [
    "df=pd.read_pickle(data_path+\"1.pkl\")\n",
    "len(df)"
   ]
  },
  {
   "cell_type": "code",
   "execution_count": null,
   "id": "47148806",
   "metadata": {},
   "outputs": [],
   "source": []
  },
  {
   "cell_type": "code",
   "execution_count": 169,
   "id": "cb03c8eb",
   "metadata": {},
   "outputs": [],
   "source": [
    "newdata=[]\n",
    "\n",
    "#Loop over all files in the directory and unpickle them into one large data frame\n",
    "\n",
    "for path in os.listdir(data_path):\n",
    "    df = pd.read_pickle(data_path + path)\n",
    "    #newdata.append([path.replace(\".pkl\", \"\"), df])\n",
    " \n",
    "    \n",
    "    #newdata=np.array([path.replace(\".pkl\", \"\"), df]).T\n",
    "    #df2=pd.DataFrame(newdata,index=None)\n",
    "\n",
    "    #new_df = pd.DataFrame(newdata,columns=[ \"Sim_num\", \"Likelihood\"],index=None)  # path[:-4]\n",
    "   # new_df.to_csv(\"/Users/lenajanys/Documents/GitHub/sampling/Results/likelihoods/likelihood_csv.csv\", index=False, mode=\"a\", )\n"
   ]
  },
  {
   "cell_type": "code",
   "execution_count": 170,
   "id": "7b51b018",
   "metadata": {},
   "outputs": [
    {
     "name": "stdout",
     "output_type": "stream",
     "text": [
      "{'subsidy_effect_on_years': {'difference': 0.0, 'baseline': 9.83492, 'with_subsidy': 9.83492}, 'subsidy_effect_on_years_by_type': {'difference': Type\n",
      "0    0.0\n",
      "1    0.0\n",
      "2    0.0\n",
      "3    0.0\n",
      "Name: Experience_School, dtype: float64, 'baseline': Type\n",
      "0    10.094511\n",
      "1     9.877880\n",
      "2     9.782667\n",
      "3     9.654649\n",
      "Name: Experience_School, dtype: float64, 'with_subsidy': Type\n",
      "0    10.094511\n",
      "1     9.877880\n",
      "2     9.782667\n",
      "3     9.654649\n",
      "Name: Experience_School, dtype: float64}, 'average_wage_by_period':         Wage_Blue_Collar  Wage_White_Collar\n",
      "Period                                     \n",
      "0           0.000000e+00      1.958362e-228\n",
      "1           0.000000e+00      6.764849e-178\n",
      "2           0.000000e+00      3.396755e-100\n",
      "3           0.000000e+00       2.974917e-63\n",
      "4           0.000000e+00       1.953599e-22\n",
      "5           0.000000e+00       9.096198e+41\n",
      "6           0.000000e+00       3.285632e+65\n",
      "7           0.000000e+00       2.565616e+75\n",
      "8           0.000000e+00       6.255108e+67\n",
      "9           0.000000e+00       2.081165e+64\n",
      "10          0.000000e+00       4.947654e+81\n",
      "11          0.000000e+00       2.313892e+94\n",
      "12          0.000000e+00      1.195423e+111\n",
      "13         2.800467e-272      3.309369e+115\n",
      "14         8.123967e-264      5.831388e+117\n",
      "15         7.734991e-271      1.094692e+128\n",
      "16         1.477371e-242      5.246275e+129\n",
      "17         1.822294e-235      2.656698e+142\n",
      "18         1.470401e-228      1.953246e+140\n",
      "19         6.819685e-218      2.809933e+134\n",
      "20         8.904981e-197      4.609327e+135\n",
      "21         6.175082e-188      6.635962e+130\n",
      "22         1.452920e-170      3.430716e+120\n",
      "23         4.875054e-170      2.347367e+116\n",
      "24         5.201907e-165      1.004893e+107\n",
      "25         6.619122e-151       1.558891e+94\n",
      "26         7.680378e-138       1.982274e+77\n",
      "27         1.012899e-124       1.045660e+78\n",
      "28         8.764341e-121       2.159142e+55\n",
      "29          2.042153e-98       5.951676e+44\n",
      "30          1.252716e-96       9.310556e+29\n",
      "31          1.301772e-77       1.453562e+04\n",
      "32          7.697625e-71       7.174195e+05\n",
      "33          1.366812e-55       1.033566e+05\n",
      "34          3.135929e-45       3.884840e+01\n",
      "35          1.447260e-18       5.044149e+03\n",
      "36          1.647351e-30       1.579730e+07\n",
      "37          6.843275e-19       1.575627e+09\n",
      "38          2.330794e+01       8.775697e+17\n",
      "39          1.219846e-01       3.862630e+04\n",
      "40          2.153980e+08       1.103293e+21\n",
      "41          5.598173e+17       7.799046e+13\n",
      "42          1.164630e+13       5.383202e+24\n",
      "43          6.554377e+22       5.524112e+42\n",
      "44          6.094451e+35       2.479368e+59\n",
      "45          1.225923e+55       9.872402e+75\n",
      "46          7.439737e+58       1.063823e+81\n",
      "47          2.820508e+68       4.534366e+56\n",
      "48          4.220930e+67       4.673825e+67\n",
      "49          3.322620e+41       3.982608e+76, 'subsidy_effect_on_hs_graduation': {'difference': 0.0, 'baseline': 0.05464, 'with_subsidy': 0.05464}, 'subsidy_effect_on_col_graduation': {'difference': 0.0, 'baseline': 0.0, 'with_subsidy': 0.0}, 'subsidy_effect_on_utility_by_type': {'difference': Type\n",
      "0    0.0\n",
      "1    0.0\n",
      "2    0.0\n",
      "3    0.0\n",
      "Name: Value_Function_Max, dtype: float64, 'baseline': Type\n",
      "0    4.125430e+185\n",
      "1    2.338118e+186\n",
      "2    2.846803e+185\n",
      "3    1.109144e+184\n",
      "Name: Value_Function_Max, dtype: float64, 'with_subsidy': Type\n",
      "0    4.125430e+185\n",
      "1    2.338118e+186\n",
      "2    2.846803e+185\n",
      "3    1.109144e+184\n",
      "Name: Value_Function_Max, dtype: float64}, 'choice_shares_by_period': Choice  blue_collar  military  white_collar   school     home\n",
      "Period                                                       \n",
      "0           0.36274   0.63362       0.00364  0.00000  0.00000\n",
      "1           0.95126   0.04874       0.00000  0.00000  0.00000\n",
      "2           0.70458   0.28848       0.00564  0.00000  0.00130\n",
      "3           0.75458   0.20048       0.04492  0.00000  0.00002\n",
      "4           0.74656   0.05374       0.19300  0.00000  0.00670\n",
      "5           0.37036   0.13544       0.46814  0.00014  0.02592\n",
      "6           0.46924   0.22512       0.19822  0.00032  0.10710\n",
      "7           0.38806   0.30398       0.21730  0.00150  0.08916\n",
      "8           0.04052   0.36644       0.51214  0.00058  0.08032\n",
      "9           0.00360   0.05486       0.88236  0.00000  0.05918\n",
      "10          0.00064   0.00626       0.99160  0.00010  0.00140\n",
      "11          0.00030   0.00008       0.99958  0.00002  0.00002\n",
      "12          0.00008   0.00000       0.99992  0.00000  0.00000\n",
      "13          0.00000   0.00000       1.00000  0.00000  0.00000\n",
      "14          0.00000   0.00000       1.00000  0.00000  0.00000\n",
      "15          0.00000   0.00000       1.00000  0.00000  0.00000\n",
      "16          0.00000   0.00000       1.00000  0.00000  0.00000\n",
      "17          0.00000   0.00000       1.00000  0.00000  0.00000\n",
      "18          0.00000   0.00000       1.00000  0.00000  0.00000\n",
      "19          0.00000   0.00000       1.00000  0.00000  0.00000\n",
      "20          0.00000   0.00000       1.00000  0.00000  0.00000\n",
      "21          0.00000   0.00000       1.00000  0.00000  0.00000\n",
      "22          0.00002   0.00000       0.99998  0.00000  0.00000\n",
      "23          0.00308   0.00000       0.99692  0.00000  0.00000\n",
      "24          0.00818   0.00000       0.99182  0.00000  0.00000\n",
      "25          0.06646   0.00000       0.93354  0.00000  0.00000\n",
      "26          0.05454   0.00000       0.94500  0.00000  0.00046\n",
      "27          0.20004   0.00000       0.79578  0.00000  0.00418\n",
      "28          0.48076   0.00000       0.51778  0.00146  0.00000\n",
      "29          0.43026   0.00000       0.55360  0.00000  0.01614\n",
      "30          0.57172   0.00000       0.30236  0.00000  0.12592\n",
      "31          0.40890   0.00000       0.59078  0.00030  0.00002\n",
      "32          0.60104   0.00000       0.31328  0.00292  0.08276\n",
      "33          0.43762   0.00000       0.53466  0.00472  0.02300\n",
      "34          0.54976   0.00016       0.31600  0.00522  0.12886\n",
      "35          0.50588   0.00000       0.44836  0.00876  0.03700\n",
      "36          0.45982   0.00000       0.42906  0.00370  0.10742\n",
      "37          0.36916   0.00008       0.48140  0.01164  0.13772\n",
      "38          0.37200   0.00026       0.38478  0.00568  0.23728\n",
      "39          0.34428   0.00570       0.47148  0.00528  0.17326\n",
      "40          0.44858   0.00050       0.31752  0.00412  0.22928\n",
      "41          0.24320   0.00072       0.61646  0.00000  0.13962\n",
      "42          0.36410   0.00790       0.62242  0.00556  0.00002\n",
      "43          0.44338   0.21774       0.00294  0.00048  0.33546\n",
      "44          0.38144   0.00246       0.61338  0.00234  0.00038\n",
      "45          0.35644   0.00878       0.29314  0.00008  0.34156\n",
      "46          0.26286   0.07652       0.49764  0.00862  0.15436\n",
      "47          0.05600   0.00122       0.51700  0.00000  0.42578\n",
      "48          0.00888   0.01230       0.52668  0.00356  0.44858\n",
      "49          0.00086   0.07076       0.00406  0.00000  0.92432, 'average_choice_shares_by_type_until_age_40': Type                 0         1         2         3\n",
      "Choice                                              \n",
      "blue_collar   0.006099  0.002780  0.003506  0.001055\n",
      "military      0.030673  0.026577  0.026239  0.016580\n",
      "white_collar  0.922771  0.968935  0.969783  0.980642\n",
      "school        0.000032  0.000026  0.000000  0.000144\n",
      "home          0.040425  0.001682  0.000471  0.001579, 'years_educ_by_type': Type\n",
      "0    10.094511\n",
      "1     9.877880\n",
      "2     9.782667\n",
      "3     9.654649\n",
      "Name: Experience_School, dtype: float64, 'variance_decomposition_of_lifetime_utility': nan, 'average_wage_at_age_50':               Wage_Blue_Collar  Wage_White_Collar\n",
      "Choice                                           \n",
      "blue_collar       5.704179e-45       8.360320e-15\n",
      "military         4.833674e-244      3.065862e-162\n",
      "white_collar      1.390730e-59       1.229380e+02\n",
      "school            0.000000e+00       3.456833e-17\n",
      "home              3.267428e-72      1.439185e-101, 'params':                                                        value\n",
      "category               name                                 \n",
      "delta                  delta                      -73.189105\n",
      "wage_white_collar      constant                  -236.342976\n",
      "                       exp_school                 -47.831855\n",
      "                       exp_white_collar           -39.548138\n",
      "                       exp_white_collar_square   -244.145336\n",
      "...                                                      ...\n",
      "lagged_choice_1_school eight_years_of_schooling    -1.758000\n",
      "                       nine_years_of_schooling     -0.212300\n",
      "                       ten_years_of_schooling      -0.023100\n",
      "                       eleven_years_of_schooling   -0.009700\n",
      "maximum_exp            school                      20.000000\n",
      "\n",
      "[115 rows x 1 columns]}\n"
     ]
    }
   ],
   "source": [
    "print(df)"
   ]
  },
  {
   "cell_type": "code",
   "execution_count": null,
   "id": "2130b20c",
   "metadata": {},
   "outputs": [],
   "source": [
    "print(newdata)"
   ]
  },
  {
   "cell_type": "code",
   "execution_count": null,
   "id": "137c3825",
   "metadata": {},
   "outputs": [],
   "source": []
  },
  {
   "cell_type": "code",
   "execution_count": null,
   "id": "9195552e",
   "metadata": {},
   "outputs": [],
   "source": []
  },
  {
   "cell_type": "code",
   "execution_count": null,
   "id": "692e844d",
   "metadata": {},
   "outputs": [],
   "source": []
  },
  {
   "cell_type": "code",
   "execution_count": null,
   "id": "d70c23e0",
   "metadata": {},
   "outputs": [],
   "source": []
  },
  {
   "cell_type": "code",
   "execution_count": null,
   "id": "804d9789",
   "metadata": {},
   "outputs": [],
   "source": []
  },
  {
   "cell_type": "code",
   "execution_count": null,
   "id": "44c99ed5",
   "metadata": {},
   "outputs": [],
   "source": []
  },
  {
   "cell_type": "code",
   "execution_count": null,
   "id": "fbdca581",
   "metadata": {},
   "outputs": [],
   "source": []
  },
  {
   "cell_type": "code",
   "execution_count": null,
   "id": "23641785",
   "metadata": {},
   "outputs": [],
   "source": []
  },
  {
   "cell_type": "code",
   "execution_count": null,
   "id": "701404d3",
   "metadata": {},
   "outputs": [],
   "source": []
  },
  {
   "cell_type": "code",
   "execution_count": null,
   "id": "0c5cd336",
   "metadata": {},
   "outputs": [],
   "source": []
  },
  {
   "cell_type": "code",
   "execution_count": null,
   "id": "0b783335",
   "metadata": {},
   "outputs": [],
   "source": []
  },
  {
   "cell_type": "code",
   "execution_count": null,
   "id": "a7ed3308",
   "metadata": {},
   "outputs": [],
   "source": []
  },
  {
   "cell_type": "code",
   "execution_count": null,
   "id": "bdd19cb8",
   "metadata": {},
   "outputs": [],
   "source": []
  },
  {
   "cell_type": "code",
   "execution_count": null,
   "id": "c884eaf7",
   "metadata": {},
   "outputs": [],
   "source": []
  },
  {
   "cell_type": "code",
   "execution_count": null,
   "id": "e515826c",
   "metadata": {},
   "outputs": [],
   "source": []
  },
  {
   "cell_type": "code",
   "execution_count": null,
   "id": "dbaae8f8",
   "metadata": {},
   "outputs": [],
   "source": []
  },
  {
   "cell_type": "code",
   "execution_count": null,
   "id": "64ebd36c",
   "metadata": {},
   "outputs": [],
   "source": []
  },
  {
   "cell_type": "code",
   "execution_count": null,
   "id": "10fd17ba",
   "metadata": {},
   "outputs": [],
   "source": []
  },
  {
   "cell_type": "code",
   "execution_count": null,
   "id": "3d8ff487",
   "metadata": {},
   "outputs": [],
   "source": []
  },
  {
   "cell_type": "code",
   "execution_count": null,
   "id": "6bebe73f",
   "metadata": {},
   "outputs": [],
   "source": []
  },
  {
   "cell_type": "code",
   "execution_count": null,
   "id": "65e39947",
   "metadata": {},
   "outputs": [],
   "source": []
  },
  {
   "cell_type": "code",
   "execution_count": null,
   "id": "1e98103a",
   "metadata": {},
   "outputs": [],
   "source": []
  },
  {
   "cell_type": "code",
   "execution_count": null,
   "id": "af7cd9ba",
   "metadata": {},
   "outputs": [],
   "source": []
  },
  {
   "cell_type": "code",
   "execution_count": null,
   "id": "9a079770",
   "metadata": {},
   "outputs": [],
   "source": []
  },
  {
   "cell_type": "code",
   "execution_count": null,
   "id": "85f3ce3e",
   "metadata": {},
   "outputs": [],
   "source": [
    "\n"
   ]
  },
  {
   "cell_type": "code",
   "execution_count": null,
   "id": "d0dcd1ff",
   "metadata": {},
   "outputs": [],
   "source": []
  },
  {
   "cell_type": "code",
   "execution_count": null,
   "id": "758a644d",
   "metadata": {},
   "outputs": [],
   "source": []
  },
  {
   "cell_type": "code",
   "execution_count": null,
   "id": "3497a849",
   "metadata": {},
   "outputs": [],
   "source": []
  },
  {
   "cell_type": "code",
   "execution_count": null,
   "id": "20b66a91",
   "metadata": {},
   "outputs": [],
   "source": []
  },
  {
   "cell_type": "code",
   "execution_count": null,
   "id": "01e0763a",
   "metadata": {},
   "outputs": [],
   "source": [
    "\n"
   ]
  },
  {
   "cell_type": "code",
   "execution_count": null,
   "id": "01a0826f",
   "metadata": {},
   "outputs": [],
   "source": []
  },
  {
   "cell_type": "code",
   "execution_count": null,
   "id": "b17bdd96",
   "metadata": {},
   "outputs": [],
   "source": []
  },
  {
   "cell_type": "code",
   "execution_count": null,
   "id": "78cd34f9",
   "metadata": {},
   "outputs": [],
   "source": []
  },
  {
   "cell_type": "code",
   "execution_count": null,
   "id": "9d9e32f3",
   "metadata": {},
   "outputs": [],
   "source": []
  },
  {
   "cell_type": "code",
   "execution_count": null,
   "id": "2ea521a2",
   "metadata": {},
   "outputs": [],
   "source": []
  },
  {
   "cell_type": "code",
   "execution_count": null,
   "id": "afeb0602",
   "metadata": {},
   "outputs": [],
   "source": []
  },
  {
   "cell_type": "code",
   "execution_count": null,
   "id": "8082a969",
   "metadata": {},
   "outputs": [],
   "source": [
    "\n",
    "        \n",
    "       \n",
    "        "
   ]
  },
  {
   "cell_type": "code",
   "execution_count": null,
   "id": "154d8cff",
   "metadata": {},
   "outputs": [],
   "source": [
    "\n",
    "    "
   ]
  },
  {
   "cell_type": "code",
   "execution_count": null,
   "id": "40fe1202",
   "metadata": {},
   "outputs": [],
   "source": []
  },
  {
   "cell_type": "code",
   "execution_count": null,
   "id": "e67a0ac1",
   "metadata": {},
   "outputs": [],
   "source": []
  },
  {
   "cell_type": "code",
   "execution_count": null,
   "id": "e51859e3",
   "metadata": {},
   "outputs": [],
   "source": []
  },
  {
   "cell_type": "code",
   "execution_count": null,
   "id": "286e95c4",
   "metadata": {},
   "outputs": [],
   "source": []
  },
  {
   "cell_type": "code",
   "execution_count": null,
   "id": "57c76f5b",
   "metadata": {},
   "outputs": [],
   "source": []
  },
  {
   "cell_type": "code",
   "execution_count": null,
   "id": "070b0c6d",
   "metadata": {},
   "outputs": [],
   "source": []
  },
  {
   "cell_type": "code",
   "execution_count": null,
   "id": "6395f4f3",
   "metadata": {},
   "outputs": [],
   "source": []
  },
  {
   "cell_type": "code",
   "execution_count": null,
   "id": "4aa8d091",
   "metadata": {},
   "outputs": [],
   "source": []
  },
  {
   "cell_type": "code",
   "execution_count": null,
   "id": "483a2a89",
   "metadata": {},
   "outputs": [],
   "source": []
  },
  {
   "cell_type": "code",
   "execution_count": null,
   "id": "932b7f2f",
   "metadata": {},
   "outputs": [],
   "source": [
    "\n"
   ]
  },
  {
   "cell_type": "code",
   "execution_count": null,
   "id": "911e35ba",
   "metadata": {},
   "outputs": [],
   "source": [
    "\n"
   ]
  },
  {
   "cell_type": "code",
   "execution_count": null,
   "id": "f8bb4c27",
   "metadata": {},
   "outputs": [],
   "source": []
  },
  {
   "cell_type": "code",
   "execution_count": null,
   "id": "6b51a71e",
   "metadata": {},
   "outputs": [],
   "source": []
  },
  {
   "cell_type": "code",
   "execution_count": null,
   "id": "5f7ee614",
   "metadata": {},
   "outputs": [],
   "source": []
  },
  {
   "cell_type": "code",
   "execution_count": null,
   "id": "34486ede",
   "metadata": {},
   "outputs": [],
   "source": []
  },
  {
   "cell_type": "code",
   "execution_count": null,
   "id": "2ac9f01c",
   "metadata": {},
   "outputs": [],
   "source": []
  },
  {
   "cell_type": "code",
   "execution_count": null,
   "id": "ab52324b",
   "metadata": {},
   "outputs": [],
   "source": []
  },
  {
   "cell_type": "code",
   "execution_count": null,
   "id": "82bfdb8c",
   "metadata": {},
   "outputs": [],
   "source": []
  },
  {
   "cell_type": "code",
   "execution_count": null,
   "id": "15ca299c",
   "metadata": {},
   "outputs": [],
   "source": []
  },
  {
   "cell_type": "code",
   "execution_count": null,
   "id": "43382d00",
   "metadata": {},
   "outputs": [],
   "source": []
  },
  {
   "cell_type": "code",
   "execution_count": null,
   "id": "87d698b2",
   "metadata": {},
   "outputs": [],
   "source": []
  },
  {
   "cell_type": "code",
   "execution_count": null,
   "id": "934ff8e0",
   "metadata": {},
   "outputs": [],
   "source": [
    "\n",
    "\n"
   ]
  },
  {
   "cell_type": "code",
   "execution_count": null,
   "id": "4ce90955",
   "metadata": {},
   "outputs": [],
   "source": []
  },
  {
   "cell_type": "code",
   "execution_count": null,
   "id": "e4627c25",
   "metadata": {},
   "outputs": [],
   "source": []
  },
  {
   "cell_type": "code",
   "execution_count": null,
   "id": "fee9990f",
   "metadata": {},
   "outputs": [],
   "source": []
  },
  {
   "cell_type": "code",
   "execution_count": null,
   "id": "fdc9f583",
   "metadata": {},
   "outputs": [],
   "source": []
  },
  {
   "cell_type": "code",
   "execution_count": null,
   "id": "6412612b",
   "metadata": {},
   "outputs": [],
   "source": [
    "\n"
   ]
  }
 ],
 "metadata": {
  "kernelspec": {
   "display_name": "Python 3 (ipykernel)",
   "language": "python",
   "name": "python3"
  },
  "language_info": {
   "codemirror_mode": {
    "name": "ipython",
    "version": 3
   },
   "file_extension": ".py",
   "mimetype": "text/x-python",
   "name": "python",
   "nbconvert_exporter": "python",
   "pygments_lexer": "ipython3",
   "version": "3.10.9"
  }
 },
 "nbformat": 4,
 "nbformat_minor": 5
}
